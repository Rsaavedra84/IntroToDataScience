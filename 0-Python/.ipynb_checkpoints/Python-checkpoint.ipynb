{
 "cells": [
  {
   "cell_type": "markdown",
   "metadata": {},
   "source": [
    "# Introduction to Python for Science\n",
    "\n",
    "**Cristobal Donoso**<br>\n",
    "Department of Computer Science<br>\n",
    "University of Concepcion, CHILE <br>\n",
    "cridonoso@inf.udec.cl<br>\n",
    "September 2018"
   ]
  },
  {
   "cell_type": "markdown",
   "metadata": {},
   "source": [
    "### What's Python?\n",
    "Python is a semi-interpreted language created by Guido van Rossum in late 80s. It is a perfect language that offers a wide set of packages for:\n",
    "- get and Manipulate data\n",
    "- visualice data\n",
    "- make basis and complex maths\n",
    "- much more!\n",
    "\n",
    "Furthermore, Python brings you a beautiful syntax which allow you to move quickly and orderly (intuitive code, familiar to human language).\n",
    "\n",
    "<img style=\"float: right;\" src='https://developerencoma.files.wordpress.com/2013/01/languages_popularity_1110.png?w=580' width=\"500\" height=\"600\"> \n",
    "<img style=\"float: left;\" src='https://lamiradadelreplicante.com/wp-content/uploads/2014/07/python-universidad.jpg' width=\"500\" height=\"600\"> \n"
   ]
  },
  {
   "cell_type": "markdown",
   "metadata": {},
   "source": [
    "### Table of Contents\n",
    "-  **Coding basis with Python** \n",
    "    - Variables and Types of data\n",
    "    - If-else sentences and Loops \n",
    "    - Functions\n",
    "- **Numerical data with Numpy**\n",
    "    - Arrays\n",
    "    - Operations\n",
    "    - Advanced Operations\n",
    "    \n",
    "- **Plotting with Matplotlib**\n",
    "    - Kinds of plots\n",
    "    - Figures, subplots, axis and ticks "
   ]
  },
  {
   "cell_type": "markdown",
   "metadata": {},
   "source": [
    "### Coding basis with Python\n",
    "The first step in any programming language is to display a message from an input in the screen. So, the principal function to do this is ```print()```. You could input the message in many ways but... wait for it "
   ]
  },
  {
   "cell_type": "code",
   "execution_count": 9,
   "metadata": {},
   "outputs": [
    {
     "name": "stdout",
     "output_type": "stream",
     "text": [
      "Hello World\n",
      "\n",
      "Peace Between Worlds\n",
      "Hello World 155\n"
     ]
    }
   ],
   "source": [
    "print('Hello World\\n') #Simple text to display\n",
    "print('Peace Between Worlds')\n",
    "print('Hello', 'World', 155)"
   ]
  },
  {
   "cell_type": "markdown",
   "metadata": {},
   "source": [
    "```print()``` function is very usefull and I'm sure it will be your favorite debugger in the future.<br><br>As we said before you could input the message (to display) in many ways, but What kind of message could you show on the screen?. In most of time you will use **variables** - and of course it can be printed.<br><br>A **variable**, as in maths, is an abstraction of something that will be used. In computer science, a variable is a portion of principal memory which will be used to save data."
   ]
  },
  {
   "cell_type": "code",
   "execution_count": 13,
   "metadata": {},
   "outputs": [],
   "source": [
    "# we defined a variable by named it with a word o character (You cannot use numbers or symbols like &, /, %, ., ?, etc.)\n",
    "variable = 'Hola'   # we initialized with a data of kind STRING\n",
    "variable2 = 23      # we initialized with a data of kind INT\n",
    "variable3 = 23.9    # we initialized with a data of kind FLOAT\n",
    "variable = 'Chao'   # we can replace the data in some variable by assigning a new value"
   ]
  },
  {
   "cell_type": "markdown",
   "metadata": {},
   "source": [
    "We could initialize a variable with an operation."
   ]
  },
  {
   "cell_type": "code",
   "execution_count": 21,
   "metadata": {},
   "outputs": [
    {
     "name": "stdout",
     "output_type": "stream",
     "text": [
      "Addition: 24\n",
      "Subtraction: 16\n",
      "Multiplication: 80\n",
      "Division: 5.0\n",
      "Division: 5\n",
      "Modulo: 0\n"
     ]
    }
   ],
   "source": [
    "# Defining initial values\n",
    "a = 20\n",
    "b = 4\n",
    "\n",
    "#Defining operations using variables\n",
    "add = a + b\n",
    "sub = a - b\n",
    "mul = a * b\n",
    "div1 = a / b\n",
    "div2 = a // b #FLOOR\n",
    "mod = a % b\n",
    "\n",
    "#Printting variables\n",
    "print('Addition:', add)\n",
    "print('Subtraction:', sub)\n",
    "print('Multiplication:', mul)\n",
    "print('Division:', div1)\n",
    "print('Division:', div2)\n",
    "print('Modulo:', mod)"
   ]
  },
  {
   "cell_type": "markdown",
   "metadata": {},
   "source": [
    "In python programs it's common to use **lists**. Lists are a special type of data that organizes different types of data.  "
   ]
  },
  {
   "cell_type": "code",
   "execution_count": 26,
   "metadata": {},
   "outputs": [
    {
     "name": "stdout",
     "output_type": "stream",
     "text": [
      "My list:  ['Car', 23, 'kitten', [1, 2, 3], 5]\n"
     ]
    }
   ],
   "source": [
    "my_list = ['Car', 23, 'kitten', [1,2,3], div2] #notice that we initialized a list with square brackets\n",
    "print('My list: ',my_list)"
   ]
  },
  {
   "cell_type": "markdown",
   "metadata": {},
   "source": [
    "There are [many operations with lists](https://docs.python.org/3/tutorial/datastructures.html). The main ones are:\n",
    "- append\n",
    "- indexing \n",
    "- sort\n",
    "- del"
   ]
  },
  {
   "cell_type": "code",
   "execution_count": 39,
   "metadata": {},
   "outputs": [
    {
     "name": "stdout",
     "output_type": "stream",
     "text": [
      "['My first data in the list']\n",
      "['My first data in the list', 'It is the second data in the list']\n",
      "['My first data in the list', 'It is the second data in the list', 20]\n",
      "['My first data in the list', 'It is the second data in the list', 20, [1, 2, 'hola', ['A list of list of list', 7]]]\n"
     ]
    }
   ],
   "source": [
    "my_new_list = [] # we initialized an empty list\n",
    "my_new_list.append('My first data in the list')\n",
    "print (my_new_list)\n",
    "my_new_list.append('It is the second data in the list')\n",
    "print (my_new_list)\n",
    "my_new_list.append(10+10)\n",
    "print (my_new_list)\n",
    "my_new_list.append([1,2,'hola',['A list of list of list', 7]])\n",
    "print (my_new_list)"
   ]
  },
  {
   "cell_type": "code",
   "execution_count": 46,
   "metadata": {},
   "outputs": [
    {
     "name": "stdout",
     "output_type": "stream",
     "text": [
      "My first data in the list\n",
      "[1, 2, 'hola', ['A list of list of list', 7]]\n",
      "['My first data in the list', 'It is the second data in the list']\n",
      "Latest value:  7\n"
     ]
    }
   ],
   "source": [
    "#Indexing\n",
    "first_item = my_new_list[0]\n",
    "last_item = my_new_list[-1]\n",
    "range_of_items = my_new_list[0:2]\n",
    "print(first_item)\n",
    "print(last_item)\n",
    "print(range_of_items)\n",
    "#The last item in the list in the list in the list\n",
    "this = my_new_list[-1][-1][-1]\n",
    "print('Latest value: ',this)"
   ]
  },
  {
   "cell_type": "code",
   "execution_count": 57,
   "metadata": {},
   "outputs": [
    {
     "name": "stdout",
     "output_type": "stream",
     "text": [
      "[2, 6, 8, 2, 8]\n",
      "[2, 2, 6, 8, 8]\n"
     ]
    }
   ],
   "source": [
    "another_list = [2,6,8,2,8]\n",
    "print(another_list)\n",
    "another_list.sort()\n",
    "print(another_list)"
   ]
  },
  {
   "cell_type": "code",
   "execution_count": 59,
   "metadata": {},
   "outputs": [
    {
     "name": "stdout",
     "output_type": "stream",
     "text": [
      "[2, 2, 6, 8]\n",
      "[2, 2, 6]\n"
     ]
    }
   ],
   "source": [
    "print(another_list)\n",
    "del another_list[-1]\n",
    "print(another_list)"
   ]
  },
  {
   "cell_type": "markdown",
   "metadata": {},
   "source": [
    "Since we know the list concept we could need to move along the elements of this. We can do this with **Loops** "
   ]
  },
  {
   "cell_type": "code",
   "execution_count": 66,
   "metadata": {},
   "outputs": [
    {
     "name": "stdout",
     "output_type": "stream",
     "text": [
      "My first data in the list\n",
      "It is the second data in the list\n",
      "20\n",
      "[1, 2, 'hola', ['A list of list of list', 7]]\n",
      "**************************************************\n",
      "0 .- My first data in the list\n",
      "1 .- It is the second data in the list\n",
      "2 .- 20\n",
      "3 .- [1, 2, 'hola', ['A list of list of list', 7]]\n",
      "**************************************************\n",
      "0\n",
      "1\n",
      "2\n",
      "3\n",
      "4\n",
      "**************************************************\n",
      "Lenght of list:  4\n"
     ]
    }
   ],
   "source": [
    "# going through the elements\n",
    "for element in my_new_list:\n",
    "    print(element)\n",
    "# enumerating the elements\n",
    "print('*'*50)\n",
    "for i, element in enumerate(my_new_list):\n",
    "    print(i,'.-', element)\n",
    "# using a for statment to display a range\n",
    "print('*'*50)\n",
    "for k in range(0, 5):\n",
    "    print(k)\n",
    "# Size of list\n",
    "print('*'*50)\n",
    "print('Lenght of list: ',len(my_new_list))"
   ]
  },
  {
   "cell_type": "markdown",
   "metadata": {},
   "source": [
    "In order to work in specific domains, we can filter variables using **ifs** statments. The relational operators to make comparassion are:"
   ]
  },
  {
   "cell_type": "code",
   "execution_count": 69,
   "metadata": {},
   "outputs": [
    {
     "name": "stdout",
     "output_type": "stream",
     "text": [
      "True\n",
      "False\n",
      "False\n",
      "True\n",
      "True\n",
      "False\n"
     ]
    }
   ],
   "source": [
    "# Relational Operators\n",
    "a = 99\n",
    "b = 10.2\n",
    " \n",
    "# a > b \n",
    "print(a > b)\n",
    "# a < b \n",
    "print(a < b)\n",
    "# a == b \n",
    "print(a == b)\n",
    "# a != b\n",
    "print(a != b)\n",
    "# a >= b\n",
    "print(a >= b)\n",
    "# a <= b\n",
    "print(a <= b)"
   ]
  },
  {
   "cell_type": "markdown",
   "metadata": {},
   "source": [
    "##### Exercise:  Write a program that iterates over a list from 0 to 10 and select the even values"
   ]
  },
  {
   "cell_type": "code",
   "execution_count": 70,
   "metadata": {},
   "outputs": [],
   "source": [
    "# Your code here ! "
   ]
  },
  {
   "cell_type": "markdown",
   "metadata": {},
   "source": [
    "### Functions\n",
    "Lets imagine that you need to define a VIPO (**V**ery **I**mportant **P**articular **O**peration). Probably, you will need to use this many time in your code but python didn't implement it for you :(<br><br>There is an special structure in python which allow you to write block of code which will be \"calleable\" whenever you want: **FUNCTIONS**"
   ]
  },
  {
   "cell_type": "code",
   "execution_count": 71,
   "metadata": {},
   "outputs": [],
   "source": [
    "def exctract_odds(some_list):\n",
    "    odds = []\n",
    "    for value in some_list: \n",
    "        if value % 2 == 1:\n",
    "            odds.append(value)\n",
    "    return odds"
   ]
  },
  {
   "cell_type": "code",
   "execution_count": 73,
   "metadata": {},
   "outputs": [
    {
     "name": "stdout",
     "output_type": "stream",
     "text": [
      "[1, 3, 5, 7]\n"
     ]
    }
   ],
   "source": [
    "whole = [1,2,3,4,5,6,7]\n",
    "odds  = exctract_odds(whole)\n",
    "print(odds)"
   ]
  },
  {
   "cell_type": "markdown",
   "metadata": {},
   "source": [
    "## NUMPY \n",
    "NumPy provides:\t\n",
    "- extension package to Python for multi-dimensional arrays\n",
    "- closer to hardware (efficiency)\n",
    "- designed for scientific computation (convenience)\n",
    "- Also known as array oriented computing\n",
    "\n",
    "\n",
    "For example, An array containing:\n",
    "\n",
    "- values of an experiment/simulation at discrete time steps\n",
    "- signal recorded by a measurement device, e.g. sound wave\n",
    "- pixels of an image, grey-level or colour\n",
    "- 3-D data measured at different X-Y-Z positions, e.g. MRI scan\n",
    "\n",
    "(This list was extracted from [scipy-lectures](https://www.scipy-lectures.org/intro/numpy/array_object.html))<br>\n",
    "(You can see more [here](https://docs.scipy.org/doc/numpy/user/quickstart.html))"
   ]
  },
  {
   "cell_type": "code",
   "execution_count": 74,
   "metadata": {},
   "outputs": [],
   "source": [
    "import numpy as np"
   ]
  },
  {
   "cell_type": "code",
   "execution_count": 75,
   "metadata": {},
   "outputs": [
    {
     "name": "stdout",
     "output_type": "stream",
     "text": [
      "200 µs ± 2.51 µs per loop (mean ± std. dev. of 7 runs, 1000 loops each)\n",
      "938 ns ± 5.05 ns per loop (mean ± std. dev. of 7 runs, 1000000 loops each)\n"
     ]
    }
   ],
   "source": [
    "list_python = range(1000)\n",
    "%timeit [i**2 for i in list_python]\n",
    "numpy_array = np.arange(1000)\n",
    "%timeit numpy_array**2"
   ]
  },
  {
   "cell_type": "markdown",
   "metadata": {},
   "source": [
    "We can define multidimnesional arrays *by hand* or *pre-defined*. "
   ]
  },
  {
   "cell_type": "code",
   "execution_count": 93,
   "metadata": {},
   "outputs": [
    {
     "name": "stdout",
     "output_type": "stream",
     "text": [
      "[1 2 3]\n",
      "[[1.  2.  3.6]\n",
      " [4.  5.  6. ]]\n",
      "[[[1 2 3]\n",
      "  [4 5 6]]\n",
      "\n",
      " [[1 2 3.6]\n",
      "  [4 5 None]]]\n",
      "dimension of n: 1 data type: int64\n",
      "dimension of m: 2 data type: float64\n",
      "dimension of l: 3 data type: object\n"
     ]
    }
   ],
   "source": [
    "# Defining numpy arrays by hand\n",
    "n = np.array([1,2,3])\n",
    "m = np.array([[1,2,3.6],[4,5,6]])\n",
    "l = np.array([[[1,2,3],\n",
    "               [4,5,6]],\n",
    "              [[1,2,3.6],\n",
    "               [4,5,None]]])\n",
    "print(n)\n",
    "print(m)\n",
    "print(l)\n",
    "print('dimension of n:',n.ndim,'data type:',n.dtype)\n",
    "print('dimension of m:',m.ndim,'data type:',m.dtype)\n",
    "print('dimension of l:',l.ndim,'data type:',l.dtype)"
   ]
  },
  {
   "cell_type": "code",
   "execution_count": 117,
   "metadata": {},
   "outputs": [
    {
     "name": "stdout",
     "output_type": "stream",
     "text": [
      "**************************************************\n",
      "[1. 1. 1. 1. 1.]\n",
      "**************************************************\n",
      "[[1. 1.]\n",
      " [1. 1.]\n",
      " [1. 1.]\n",
      " [1. 1.]\n",
      " [1. 1.]]\n",
      "**************************************************\n",
      "[0. 0. 0. 0. 0.]\n",
      "**************************************************\n",
      "[[[-0.34214883  2.30775842]\n",
      "  [ 0.89075805 -1.59898619]]\n",
      "\n",
      " [[-0.12949103 -1.03694146]\n",
      "  [-0.02239607 -2.0801838 ]]]\n"
     ]
    }
   ],
   "source": [
    "# Pre-defined by NumPy\n",
    "o = np.ones(5)\n",
    "print('*'*50)\n",
    "print(o)\n",
    "y = np.ones([5,2])\n",
    "print('*'*50)\n",
    "print(y)\n",
    "z = np.zeros(5)\n",
    "print('*'*50)\n",
    "print(z)\n",
    "#Normal distribution\n",
    "b = np.random.randn(2,2,2)\n",
    "print('*'*50)\n",
    "print(b)"
   ]
  },
  {
   "cell_type": "markdown",
   "metadata": {},
   "source": [
    "We can create range of values defined by bounds"
   ]
  },
  {
   "cell_type": "code",
   "execution_count": 125,
   "metadata": {},
   "outputs": [
    {
     "name": "stdout",
     "output_type": "stream",
     "text": [
      "[0 1 2 3 4 5 6 7 8 9]\n",
      "[ 5.  7.  9. 11. 13.]\n"
     ]
    }
   ],
   "source": [
    "a = np.arange(10)\n",
    "print (a)\n",
    "b = np.linspace(5,15,5,endpoint=False)\n",
    "print (b)"
   ]
  },
  {
   "cell_type": "markdown",
   "metadata": {},
   "source": [
    "One of the advantages of working with NumPy is the operations which we can do between arrays, for example:"
   ]
  },
  {
   "cell_type": "code",
   "execution_count": 136,
   "metadata": {},
   "outputs": [
    {
     "name": "stdout",
     "output_type": "stream",
     "text": [
      "[1. 1. 1. 1.]\n"
     ]
    }
   ],
   "source": [
    "a = np.ones(4)\n",
    "b = np.ones(4)\n",
    "print(a)\n",
    "x = np.sum([a,b], axis=0)\n",
    "y = np.divide(a, 5)"
   ]
  },
  {
   "cell_type": "code",
   "execution_count": 137,
   "metadata": {},
   "outputs": [
    {
     "name": "stdout",
     "output_type": "stream",
     "text": [
      "[2. 2. 2. 2.]\n",
      "[0.2 0.2 0.2 0.2]\n"
     ]
    }
   ],
   "source": [
    "print(x)\n",
    "print(y)"
   ]
  },
  {
   "cell_type": "code",
   "execution_count": null,
   "metadata": {},
   "outputs": [],
   "source": []
  }
 ],
 "metadata": {
  "kernelspec": {
   "display_name": "Python 3",
   "language": "python",
   "name": "python3"
  },
  "language_info": {
   "codemirror_mode": {
    "name": "ipython",
    "version": 3
   },
   "file_extension": ".py",
   "mimetype": "text/x-python",
   "name": "python",
   "nbconvert_exporter": "python",
   "pygments_lexer": "ipython3",
   "version": "3.6.6"
  }
 },
 "nbformat": 4,
 "nbformat_minor": 2
}
