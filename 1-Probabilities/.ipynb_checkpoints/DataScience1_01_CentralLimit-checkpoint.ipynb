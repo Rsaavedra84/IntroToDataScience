{
 "cells": [
  {
   "cell_type": "markdown",
   "metadata": {},
   "source": [
    "We start by importing relevant libraries"
   ]
  },
  {
   "cell_type": "code",
   "execution_count": 1,
   "metadata": {
    "collapsed": true
   },
   "outputs": [],
   "source": [
    "import numpy as np\n",
    "import pylab as pl\n"
   ]
  },
  {
   "cell_type": "markdown",
   "metadata": {},
   "source": [
    "Now we create means of random variables"
   ]
  },
  {
   "cell_type": "code",
   "execution_count": 2,
   "metadata": {},
   "outputs": [
    {
     "name": "stdout",
     "output_type": "stream",
     "text": [
      "Out of the data: mu =  2.99932757211 , sigma =  0.0951959616645\n"
     ]
    },
    {
     "data": {
      "image/png": "[encoded data removed]",
      "text/plain": [
       "<matplotlib.figure.Figure at 0x1124882d0>"
      ]
     },
     "metadata": {},
     "output_type": "display_data"
    }
   ],
   "source": [
    "s=[]\n",
    "N_CLT = 10000\n",
    "N_sums = 1000\n",
    "\n",
    "l = 300\n",
    "scale = 3 # lambda = 1/scale\n",
    "\n",
    "for i in range(N_CLT):\n",
    "    #x = np.random.poisson (l, N_sums)\n",
    "    x = np.random.exponential (scale, N_sums)    \n",
    "    s.append(x.mean())\n",
    "\n",
    "sigma = np.std(s)\n",
    "mu = np.mean(s)\n",
    "print \"Out of the data: mu = \", mu, \", sigma = \", sigma\n",
    "x = np.linspace(min(s), max(s), 1000)\n",
    "y = np.exp(-(x-mu)**2/(2*sigma**2))/(np.sqrt (np.pi * 2 * sigma**2))\n",
    "\n",
    "pl.clf()\n",
    "pl.hist(s, bins = 30, normed = True)\n",
    "pl.plot(x, y)\n",
    "pl.show()"
   ]
  },
  {
   "cell_type": "code",
   "execution_count": 3,
   "metadata": {},
   "outputs": [
    {
     "name": "stdout",
     "output_type": "stream",
     "text": [
      "Poisson theoretically:  300 0.547722557505\n",
      "Exponential theoretically:  3 0.0948683298051\n"
     ]
    }
   ],
   "source": [
    "mu_Poisson = l\n",
    "sigma_Poisson = np.sqrt(1.*l/N_sums)\n",
    "print \"Poisson theoretically: \", mu_Poisson, sigma_Poisson\n",
    "\n",
    "mu_exp = scale\n",
    "sigma_exp = scale/np.sqrt(N_sums)\n",
    "print \"Exponential theoretically: \", mu_exp, sigma_exp\n"
   ]
  }
 ],
 "metadata": {
  "kernelspec": {
   "display_name": "Python 2",
   "language": "python",
   "name": "python2"
  },
  "language_info": {
   "codemirror_mode": {
    "name": "ipython",
    "version": 2
   },
   "file_extension": ".py",
   "mimetype": "text/x-python",
   "name": "python",
   "nbconvert_exporter": "python",
   "pygments_lexer": "ipython2",
   "version": "2.7.15"
  }
 },
 "nbformat": 4,
 "nbformat_minor": 2
}
