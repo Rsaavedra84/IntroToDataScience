{
 "cells": [
  {
   "cell_type": "markdown",
   "metadata": {},
   "source": [
    "pip3 install lxml <br>\n",
    "pip3 install beautifulsoup4"
   ]
  },
  {
   "cell_type": "markdown",
   "metadata": {},
   "source": [
    "# WEB SCRAPING "
   ]
  },
  {
   "cell_type": "code",
   "execution_count": 120,
   "metadata": {},
   "outputs": [],
   "source": [
    "import numpy as np\n",
    "import requests # to obtain html data\n",
    "import bs4      # beautifulsoup4 to parse the html content"
   ]
  },
  {
   "cell_type": "markdown",
   "metadata": {},
   "source": [
    "The first step is to get the content related to an specific web page. You shall to read the privacy policies section over the data. In this tutorial we are going to use the page of chilean deputies"
   ]
  },
  {
   "cell_type": "markdown",
   "metadata": {},
   "source": [
    "![hola](./images/privacypolicies.png)"
   ]
  },
  {
   "cell_type": "code",
   "execution_count": 35,
   "metadata": {},
   "outputs": [],
   "source": [
    "res = requests.get('https://www.camara.cl/trabajamos/sala_votaciones.aspx')"
   ]
  },
  {
   "cell_type": "markdown",
   "metadata": {},
   "source": [
    "Once we have obtained the content of the page, we can access the html plain text"
   ]
  },
  {
   "cell_type": "code",
   "execution_count": 37,
   "metadata": {},
   "outputs": [
    {
     "data": {
      "text/plain": [
       "'\\r\\n<!DOCTYPE html PUBLIC \"-//W3C//DTD XHTML 1.0 Transitional//EN\" \"http://www.w3.org/TR/xhtml1/DTD/xhtml1-transitional.dtd\">\\r\\n<html xmlns=\"http://www.w3.org/1999/xhtml\">\\r\\n<head id=\"ctl00_Head1\"><meta http-equiv=\"Content-Type\" content=\"text/html;charset=utf-8\" /><title>\\r\\n\\tCámara de Diputados de Chile\\r\\n</title><link rel=\"stylesheet\" type=\"text/css\" href=\"/common/styles/main.css\" media=\"screen\" /><link rel=\"stylesheet\" type=\"text/css\" href=\"/common/styles/print.css\" media=\"print\" />\\r\\n\\r\\n    <script type=\"text/javascript\" src=\"/common/scripts/jquery-1.2.6.min.js\"></script>\\r\\n\\r\\n    <script type=\"text/javascript\" src=\"/common/scripts/main.js\"></script>\\r\\n\\r\\n   \\r\\n\\r\\n    <link rel=\"shortcut icon\" href=\"/media/images/favicon.ico\" /><link href=\"/WebResource.axd?d=pPzMpXLOsVTlHg-dfa2oezlyxtxfyJankOAeiJ8eRUQd5BFIUN4aXG0dZiMTW-Yw2byc2_X86KJrRXtd5TCIrDvH5YM7Njz5P0X40whzQ-np6-cOtlR5C2kcYbmtRSYYpkEcVu5qnoKJJ2ihbz8ba02ZmBt_hpYh2AuzTUMGzl41&amp;t=634366558068332176\" type=\"text/css\" rel=\"stylesheet\" /></head>\\r\\n<script type=\"text/javascript\">\\r\\n\\r\\n    var _gaq = _gaq || [];\\r\\n    _gaq.push([\\'_setAccount\\', \\'UA-34027487-1\\']);\\r\\n    _gaq.push([\\'_trackPageview\\']);\\r\\n\\r\\n    (function () {\\r\\n        var ga = document.createElement(\\'script\\'); ga.type = \\'text/javascript\\'; ga.async = true;\\r\\n        ga.src = (\\'https:\\' == document.location.protocol ? \\'https://ssl\\' : \\'http://www\\') + \\'.google-analytics.com/ga.js\\';\\r\\n        var s = document.getElementsByTagName(\\'script\\')[0]; s.parentNode.insertBefore(ga, s);\\r\\n    })();\\r\\n\\r\\n</script>\\r\\n<body>\\r\\n    <form name=\"aspnetForm\" method=\"post\" action=\"./sala_votaciones.aspx\" id=\"aspnetForm\">\\r\\n<input type=\"hidden\" name=\"__VIEWSTATE\" id=\"__VIEWSTATE\" value=\"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\" />\\r\\n\\r\\n\\r\\n<script type=\"text/javascript\">\\r\\n//<![CDATA[\\r\\nvar __cultureInfo = {\"name\":\"es-CL\",\"numberFormat\":{\"CurrencyDecimalDigits\":2,\"CurrencyDecimalSeparator\":\",\",\"IsReadOnly\":true,\"CurrencyGroupSizes\":[3],\"NumberGroupSizes\":[3],\"PercentGroupSizes\":[3],\"CurrencyGroupSeparator\":\".\",\"CurrencySymbol\":\"$\",\"NaNSymbol\":\"NeuN\",\"CurrencyNegativePattern\":9,\"NumberNegativePattern\":1,\"PercentPositivePattern\":0,\"PercentNegativePattern\":0,\"NegativeInfinitySymbol\":\"-Infinito\",\"NegativeSign\":\"-\",\"NumberDecimalDigits\":2,\"NumberDecimalSeparator\":\",\",\"NumberGroupSeparator\":\".\",\"CurrencyPositivePattern\":2,\"PositiveInfinitySymbol\":\"Infinito\",\"PositiveSign\":\"+\",\"PercentDecimalDigits\":2,\"PercentDecimalSeparator\":\",\",\"PercentGroupSeparator\":\".\",\"PercentSymbol\":\"%\",\"PerMilleSymbol\":\"‰\",\"NativeDigits\":[\"0\",\"1\",\"2\",\"3\",\"4\",\"5\",\"6\",\"7\",\"8\",\"9\"],\"DigitSubstitution\":1},\"dateTimeFormat\":{\"AMDesignator\":\"am\",\"Calendar\":{\"MinSupportedDateTime\":\"\\\\/Date(-62135586000000)\\\\/\",\"MaxSupportedDateTime\":\"\\\\/Date(253402300799999)\\\\/\",\"AlgorithmType\":1,\"CalendarType\":1,\"Eras\":[1],\"TwoDigitYearMax\":2029,\"IsReadOnly\":true},\"DateSeparator\":\"-\",\"FirstDayOfWeek\":0,\"CalendarWeekRule\":0,\"FullDateTimePattern\":\"dddd, dd\\\\u0027 de \\\\u0027MMMM\\\\u0027 de \\\\u0027yyyy H:mm:ss\",\"LongDatePattern\":\"dddd, dd\\\\u0027 de \\\\u0027MMMM\\\\u0027 de \\\\u0027yyyy\",\"LongTimePattern\":\"H:mm:ss\",\"MonthDayPattern\":\"d\\\\u0027 de \\\\u0027MMM\",\"PMDesignator\":\"pm\",\"RFC1123Pattern\":\"ddd, dd MMM yyyy HH\\\\u0027:\\\\u0027mm\\\\u0027:\\\\u0027ss \\\\u0027GMT\\\\u0027\",\"ShortDatePattern\":\"dd-MM-yyyy\",\"ShortTimePattern\":\"H:mm\",\"SortableDateTimePattern\":\"yyyy\\\\u0027-\\\\u0027MM\\\\u0027-\\\\u0027dd\\\\u0027T\\\\u0027HH\\\\u0027:\\\\u0027mm\\\\u0027:\\\\u0027ss\",\"TimeSeparator\":\":\",\"UniversalSortableDateTimePattern\":\"yyyy\\\\u0027-\\\\u0027MM\\\\u0027-\\\\u0027dd HH\\\\u0027:\\\\u0027mm\\\\u0027:\\\\u0027ss\\\\u0027Z\\\\u0027\",\"YearMonthPattern\":\"MMMM\\\\u0027 de \\\\u0027yyyy\",\"AbbreviatedDayNames\":[\"dom\",\"lun\",\"mar\",\"mié\",\"jue\",\"vie\",\"sáb\"],\"ShortestDayNames\":[\"do\",\"lu\",\"ma\",\"mi\",\"ju\",\"vi\",\"sá\"],\"DayNames\":[\"domingo\",\"lunes\",\"martes\",\"miércoles\",\"jueves\",\"viernes\",\"sábado\"],\"AbbreviatedMonthNames\":[\"ene\",\"feb\",\"mar\",\"abr\",\"may\",\"jun\",\"jul\",\"ago\",\"sep\",\"oct\",\"nov\",\"dic\",\"\"],\"MonthNames\":[\"enero\",\"febrero\",\"marzo\",\"abril\",\"mayo\",\"junio\",\"julio\",\"agosto\",\"septiembre\",\"octubre\",\"noviembre\",\"diciembre\",\"\"],\"IsReadOnly\":true,\"NativeCalendarName\":\"calendario gregoriano\",\"AbbreviatedMonthGenitiveNames\":[\"ene\",\"feb\",\"mar\",\"abr\",\"may\",\"jun\",\"jul\",\"ago\",\"sep\",\"oct\",\"nov\",\"dic\",\"\"],\"MonthGenitiveNames\":[\"enero\",\"febrero\",\"marzo\",\"abril\",\"mayo\",\"junio\",\"julio\",\"agosto\",\"septiembre\",\"octubre\",\"noviembre\",\"diciembre\",\"\"]},\"eras\":[1,\"d.C.\",null,0]};//]]>\\r\\n</script>\\r\\n\\r\\n<script src=\"/ScriptResource.axd?d=5Tm2BUse8Ey_KyQRw8a3MjsEEHrgOwkedB0FdfAUft9twRj5gsSz0g_xhc8Djk4cjSUYi6Fh1diMA-hfgEoLQKlXtBHhkhMtt9-GAEr0UdhEgK6WN1UypOZIXoUgy_7UwH0Ce85JbWk9k4qXlXV9hNlU9cdZXUrdfW53Pc1H3ss1&amp;t=ffffffffcd368728\" type=\"text/javascript\"></script>\\r\\n<input type=\"hidden\" name=\"__VIEWSTATEGENERATOR\" id=\"__VIEWSTATEGENERATOR\" value=\"BB7DC938\" />\\r\\n<input type=\"hidden\" name=\"__EVENTVALIDATION\" id=\"__EVENTVALIDATION\" value=\"/wEdAAl1XV8/ehXst8CQdOfAktl4X5Vh5Z2M60A3iXhEfk1P33d00JXIkZvPLtby9GfhNodBYMt7bUnDa/9Jm1taCUVrPkYMaK/fvTVVHxJAah1VdbuwrFvKLJro7nOfwwteWu3J0S5ZWZr0g50lxo0hISI7GcrJk8SVKSPXRjGdGa8wbu2EQdjYIVMb8hFYjsWXwR4QaT5c/QeAdi8rI2aKqvRiYJls87Ld2z2wT6UW4gqB+Q==\" />\\r\\n        \\r\\n        <div id=\"header\">\\r\\n\\t\\t\\t<div class=\"imgSet\">\\r\\n\\t\\t\\t\\t<img src=\"/common/images/logo.png\" alt=\"Logo de la Cámara de Diputados de Chile\" />\\r\\n\\t\\t\\t</div>\\r\\n\\t\\t\\t<h1><span>Cámara de Diputados de Chile</span></h1>\\r\\n\\t\\t\\t<h2><span>Fiscalizamos, legislamos y representamos.</span></h2>\\r\\n\\t\\t\\t<ul class=\"nav\">\\r\\n\\t\\t\\t\\t<li><a href=\"/preguntas.aspx\">Preguntas Frecuentes</a></li>\\r\\n                <li><a href=\"/glosario.aspx\">Glosario</a></li>\\r\\n                \\r\\n                <li><a href=\"/camara/formulario_contacto.aspx\">Contáctenos</a></li>\\r\\n                <li>\\r\\n                &nbsp;&nbsp;<img src=\"/common/images/redes2.png\" alt=\"Redes\" width=\"120\" height=\"23\" usemap=\"#Map\" border=\"0\" />\\r\\n                  <map name=\"Map\" id=\"Map\">\\r\\n                    <area shape=\"rect\" coords=\"2,2,21,20\" href=\"https://www.facebook.com/CamaradeDiputadosdeChile/\" target=\"_blank\" alt=\"Facebook\" />\\r\\n                    <area shape=\"rect\" coords=\"27,1,46,20\" href=\"http://twitter.com/CamaraDiputados\" target=\"_blank\" alt=\"Twitter\" />\\r\\n                    <area shape=\"rect\" coords=\"51,2,69,20\" href=\"http://www.flickr.com/photos/camaradediputadosdechile/\" target=\"_blank\" alt=\"Flickr\" />\\r\\n                    <area shape=\"rect\" coords=\"74,2,92,20\" href=\"https://www.youtube.com/channel/UCYd5k2TyOyOmUJNx0SH17KA\" target=\"_blank\" alt=\"Youtube\" />\\r\\n                    <area shape=\"rect\" coords=\"98,2,116,20\" href=\"https://www.instagram.com/diputadoscl/\" target=\"_blank\" alt=\"Instagram\"/>\\r\\r\\n                  </map>\\r\\n                </li>\\r\\n\\t\\t\\t</ul>\\r\\n\\t\\t\\t<p class=\"trans\"><a href=\"/camara/transparencia.aspx\">Transparencia</a></p>\\r\\n\\t\\t\\t<p class=\"calendar\"><a href=\"/camara/media/docs/calendario_2018.pdf\" target=\"_blank\" class=\"calendar\">Calendario Legislativo</a></p>\\r\\n\\t\\t</div>\\r\\n\\t\\t<div id=\"topMenu\">\\r\\n\\t\\t\\t<ul class=\"tabs\">\\r\\n\\t\\t\\t\\t<li id=\"ctl00_TopMenu1_btnPortada\"><a href=\"/index.aspx\">Portada</a></li>\\r\\n\\t\\t\\t\\t<li id=\"ctl00_TopMenu1_btnCamara\"><a href=\"/camara/camara_diputados.aspx\">Acerca de Cámara de Diputados</a></li>\\r\\n\\t\\t\\t\\t<li id=\"ctl00_TopMenu1_btnPley\"><a href=\"/pley/pley_buscador.aspx\">Proyectos de Ley</a></li>\\r\\n\\t\\t\\t\\t<li id=\"ctl00_TopMenu1_btnComisiones\"><a href=\"/trabajamos/comisiones_portada.aspx\">Comisiones</a></li>\\r\\n\\t\\t\\t\\t<li id=\"ctl00_TopMenu1_btnSala\" class=\"current\"><a href=\"/trabajamos/sala_portada.aspx\">Sala de Sesiones</a></li>\\r\\n\\t\\t\\t\\t<li id=\"ctl00_TopMenu1_btnDiputados\"><a href=\"/camara/diputados.aspx#tab\">Diputados</a></li>\\r\\n\\t\\t\\t\\t<li id=\"ctl00_TopMenu1_btnPrensa\"><a href=\"/prensa/noticias.aspx\">Noticias</a></li>\\r\\n\\t\\t\\t</ul>\\r\\n\\t\\t</div>\\r\\n\\r\\n        <div id=\"content\">\\r\\n            \\r\\n    <script type=\"text/javascript\" src=\"/common/scripts/main2.js\"></script>\\r\\n    <ul id=\"breadcrumbs\">\\r\\n        <li><a href=\"/index.aspx\">Portada</a></li>\\r\\n        <li><a href=\"como_trabajamos.aspx\">Como trabajamos</a></li>\\r\\n        <li><a href=\"sala_portada.aspx\" >Trabajo en sala</a></li>\\r\\n        <li class=\"current\"> Votaciones</li>\\r\\n    </ul>\\r\\n\\r\\n            \\r\\n<div class=\"col\">\\r\\n    <div id=\"menu\">\\r\\n        <div class=\"content-head\">\\r\\n            <h2>\\r\\n                Cómo Trabajamos</h2>\\r\\n        </div>\\r\\n        <ul>\\r\\n            \\r\\n            <li id=\"ctl00_TrabajamosBar1_barComisiones\" class=\"open\">\\r\\n                <div class=\"open\">\\r\\n                    <a href=\"#\" title=\"Abrir\">\\r\\n                        <img src=\"/common/images/icn-menu-open.png\" alt=\"+\" /></a></div>\\r\\n                <a href=\"comisiones_portada.aspx\">Comisiones</a>\\r\\n                <ul>\\r\\n                    <li id=\"ctl00_TrabajamosBar1_barPermanentes\"><a href=\"comisiones_tipo.aspx?prmT=P\">\\r\\n                        Permanentes</a> </li>\\r\\n                    \\r\\n                    <li id=\"ctl00_TrabajamosBar1_barInvestigadoras\"><a href=\"comisiones_tipo.aspx?prmT=I\">\\r\\n                        Investigadoras</a> </li>\\r\\n                    <li id=\"ctl00_TrabajamosBar1_barComLey\"><a href=\"comision_ley.aspx\">\\r\\n                        Creadas por Ley</a> </li>\\r\\n                    <li id=\"ctl00_TrabajamosBar1_barMandatos\"><a href=\"comision_lstmandato.aspx\">\\r\\n                        Mandatos</a></li>\\r\\n                    <li id=\"ctl00_TrabajamosBar1_barCitaciones\"><a href=\"comision_citaciones.aspx\">\\r\\n                        Citaciones</a> </li>\\r\\n                    <li id=\"ctl00_TrabajamosBar1_barResultados\"><a href=\"comision_resultados.aspx\">\\r\\n                        Resultados</a> </li>\\r\\n                </ul>\\r\\n            </li>\\r\\n            <li id=\"ctl00_TrabajamosBar1_barTrabajoSala\" class=\"open\">\\r\\n                <div class=\"open\">\\r\\n                    <a href=\"#\" title=\"Abrir\">\\r\\n                        <img src=\"/common/images/icn-menu-open.png\" alt=\"+\" /></a></div>\\r\\n                <a href=\"sala_portada.aspx\">Trabajo en sala</a>\\r\\n                <ul>\\r\\n                    <li id=\"ctl00_TrabajamosBar1_barSesiones\"><a href=\"sala_sesiones.aspx\">\\r\\n                        Sesiones</a></li>\\r\\n                    <li id=\"ctl00_TrabajamosBar1_barAsistencia\"><a href=\"sala_asistencia.aspx\">\\r\\n                        Asistencia</a></li>\\r\\n                    <li id=\"ctl00_TrabajamosBar1_barVotaciones\" class=\"current\"><a href=\"sala_votaciones.aspx\">\\r\\n                        Votaciones</a></li>\\r\\n                    <li id=\"ctl00_TrabajamosBar1_barPacuerdo\"><a href=\"pacuerdos.aspx\">\\r\\n                        Proyectos de Acuerdo</a></li>\\r\\n                    <li id=\"ctl00_TrabajamosBar1_barPresolucion\"><a href=\"presolucion.aspx\">\\r\\n                        Proyectos de Resolución</a></li>\\r\\n                </ul>\\r\\n            </li>\\r\\n            <li id=\"ctl00_TrabajamosBar1_barInterpelaciones\" class=\"open\"><a\\r\\n                href=\"comision_interpelacion.aspx\">Interpelaciones</a></li>\\r\\n            <li id=\"ctl00_TrabajamosBar1_barAcusacion\" class=\"open\"><a href=\"comisiones_tipo.aspx?prmT=A\">\\r\\n                Acusación Constitucional</a></li>\\r\\n            <li id=\"ctl00_TrabajamosBar1_barComites\" class=\"open\"><a href=\"../camara/diputados.aspx?prmTAB=comites#tab\">\\r\\n                Comités parlamentarios</a></li>\\r\\n            <li class=\"open\"><a href=\"/www/dai/index.html\" target=\"_blank\">Dirección de Asuntos Internacionales</a></li>\\r\\n            <li class=\"open\"><a href=\"http://webtv.camara.cl/\" target=\"_blank\">Videos</a></li>\\r\\n            \\r\\n            <li class=\"open\">\\r\\n                <div class=\"open\">\\r\\n                    <a href=\"#\" title=\"Abrir\">\\r\\n                        <img src=\"/common/images/icn-menu-open.png\" alt=\"+\" /></a></div>\\r\\n                <a class=\"bar\" href=\"#\">Calendario legislativo</a>\\r\\n                <ul>\\r\\n                    <li><a href=\"../pdf.aspx?prmID=0&prmTIPO=TEXTOSESION\" target=\"_blank\">Trabajo\\r\\n                        en Sala</a></li>\\r\\n                    <li><a href=\"comision_citaciondet.aspx?prmID=2018-39\">Trabajo en comisiones</a></li>\\r\\n                    <li><a href=\"/camara/distritos.aspx\">Semanas Distritales</a></li>\\r\\n                </ul>\\r\\n            </li>\\r\\n        </ul>\\r\\n    </div>\\r\\n</div>\\r\\n\\r\\n            <div id=\"main\" class=\"col\">\\r\\n                \\r\\n    \\r\\n\\t\\t\\t\\t\\r\\n    <div class=\"content-head\">\\r\\n        <h2>Trabajo en sala</h2>\\r\\n        <h3>Votaciones en Sesiones de Sala</h3>\\r\\n    </div>\\r\\n    \\r\\n    <div class=\"buscador\">\\r\\n        <div id=\"ctl00_mainPlaceHolder_UpdatePanel1\">\\r\\n\\t\\r\\n                <div class=\"formGroup\">\\r\\n                    <label>Buscar votaciones por:</label>\\r\\n                    <select name=\"ctl00$mainPlaceHolder$ddlBuscarPor\" id=\"ctl00_mainPlaceHolder_ddlBuscarPor\">\\r\\n\\t\\t<option selected=\"selected\" value=\"ultimas\">&#218;ltimas 20</option>\\r\\n\\t\\t<option value=\"fecha\">Fecha</option>\\r\\n\\t\\t<option value=\"diputado\">Diputado</option>\\r\\n\\t\\t<option value=\"materia\">Materia</option>\\r\\n\\t\\t<option value=\"boletin\">Bolet&#237;n N&#176;</option>\\r\\n\\t\\t<option value=\"pacuerdo\">Proyecto de Acuerdo N&#176;</option>\\r\\n\\t\\t<option value=\"presolucion\">Proyecto de Resoluci&#243;n N&#176;</option>\\r\\n\\r\\n\\t</select>\\r\\n                </div>\\r\\n            \\r\\n                \\r\\n\\t\\t\\t\\t\\t    \\r\\n                \\r\\n\\t\\t\\t\\t\\t    \\r\\n\\t\\t\\t    \\r\\n            \\r\\n</div>\\r\\n        \\r\\n        <input type=\"submit\" name=\"ctl00$mainPlaceHolder$btnBuscar\" value=\"Buscar\" onclick=\"javascript:WebForm_DoPostBackWithOptions(new WebForm_PostBackOptions(&quot;ctl00$mainPlaceHolder$btnBuscar&quot;, &quot;&quot;, true, &quot;&quot;, &quot;&quot;, false, false))\" id=\"ctl00_mainPlaceHolder_btnBuscar\" />\\r\\n    </div>\\r\\n    \\r\\n    <div id=\"detail\">\\r\\n        <div>\\r\\n         <div id=\"ctl00_mainPlaceHolder_pnlUltimasVotaciones\">\\r\\n\\t\\r\\n                <p class=\"results\">20 últimas votaciones </p>\\r\\n\\r\\n                \\r\\n                        <table class=\"tabla\" >\\r\\n                            <thead>\\r\\n                                <tr>\\r\\n                                    <th style=\"width:10%\">Fecha</th>\\r\\n\\t\\t\\t\\t\\t\\t\\t\\t\\t<th>Documento</th>\\r\\n\\t\\t\\t\\t\\t\\t\\t\\t\\t<th>Materia</th>\\r\\n\\t\\t\\t\\t\\t\\t\\t\\t\\t<th>Artículo</th>\\r\\n\\t\\t\\t\\t\\t\\t\\t\\t\\t<th>Tipo</th>\\r\\n\\t\\t\\t\\t\\t\\t\\t\\t\\t<th>Resultado</th>\\r\\n\\t\\t\\t\\t\\t\\t\\t\\t\\t<th>Afir.</th>\\r\\n\\t\\t\\t\\t\\t\\t\\t\\t\\t<th>Neg.</th>\\r\\n\\t\\t\\t\\t\\t\\t\\t\\t\\t<th>Abst.</a></th>\\r\\n\\t\\t\\t\\t\\t\\t\\t\\t\\t<th>Detalle</th>\\r\\n\\t\\t\\t\\t\\t\\t\\t\\t</tr>\\r\\n\\t\\t\\t\\t\\t\\t\\t</thead>\\r\\n\\t\\t\\t\\t\\t\\t    <tbody>\\r\\n                    \\r\\n                        <tr>\\r\\n                            <td>13 de sep de 2018 - 12:47</td>\\r\\n                            <td>Boletín N° 11702-13</td>\\r\\n                            <td>Modifica el Código del Trabajo con el objeto de hacer...</td>\\r\\n                            <td></td>\\r\\n                            <td>GENERAL</td>\\r\\n                            <td>APROBADO</td>\\r\\n                            <td>128</td>\\r\\n                            <td>0</td>\\r\\n                            <td>0</td>\\r\\n                            <td><a href=\"sala_votacion_detalle.aspx?prmID=29591\">Ver</a></td>\\r\\n                        </tr>\\r\\n                    \\r\\n                        <tr>\\r\\n                            <td>13 de sep de 2018 - 12:45</td>\\r\\n                            <td>Boletín N° 11787-22</td>\\r\\n                            <td>Modifica la ley N°18.290, de Tránsito, para eximir...</td>\\r\\n                            <td></td>\\r\\n                            <td>GENERAL</td>\\r\\n                            <td>APROBADO</td>\\r\\n                            <td>126</td>\\r\\n                            <td>0</td>\\r\\n                            <td>0</td>\\r\\n                            <td><a href=\"sala_votacion_detalle.aspx?prmID=29589\">Ver</a></td>\\r\\n                        </tr>\\r\\n                    \\r\\n                        <tr>\\r\\n                            <td>13 de sep de 2018 - 12:44</td>\\r\\n                            <td>Boletín N° 11972-10</td>\\r\\n                            <td>Aprueba el Tercer Protocolo Adicional al Acuerdo por...</td>\\r\\n                            <td></td>\\r\\n                            <td>UNICA</td>\\r\\n                            <td>APROBADO</td>\\r\\n                            <td>94</td>\\r\\n                            <td>21</td>\\r\\n                            <td>11</td>\\r\\n                            <td><a href=\"sala_votacion_detalle.aspx?prmID=29588\">Ver</a></td>\\r\\n                        </tr>\\r\\n                    \\r\\n                        <tr>\\r\\n                            <td>13 de sep de 2018 - 12:42</td>\\r\\n                            <td>Boletín N° 11487-04</td>\\r\\n                            <td>Autoriza a erigir un monumento en memoria del ex Diputado...</td>\\r\\n                            <td></td>\\r\\n                            <td>GENERAL</td>\\r\\n                            <td>APROBADO</td>\\r\\n                            <td>118</td>\\r\\n                            <td>0</td>\\r\\n                            <td>8</td>\\r\\n                            <td><a href=\"sala_votacion_detalle.aspx?prmID=29587\">Ver</a></td>\\r\\n                        </tr>\\r\\n                    \\r\\n                        <tr>\\r\\n                            <td>13 de sep de 2018 - 12:41</td>\\r\\n                            <td>Boletín N° 11749-10</td>\\r\\n                            <td>Aprueba el Protocolo de Modificación del Tratado de...</td>\\r\\n                            <td></td>\\r\\n                            <td>UNICA</td>\\r\\n                            <td>APROBADO</td>\\r\\n                            <td>98</td>\\r\\n                            <td>23</td>\\r\\n                            <td>5</td>\\r\\n                            <td><a href=\"sala_votacion_detalle.aspx?prmID=29586\">Ver</a></td>\\r\\n                        </tr>\\r\\n                    \\r\\n                        <tr>\\r\\n                            <td>13 de sep de 2018 - 12:40</td>\\r\\n                            <td>P. Resolución N° 166</td>\\r\\n                            <td>Solicita a S. E. el Presidente de la República que...</td>\\r\\n                            <td></td>\\r\\n                            <td></td>\\r\\n                            <td>APROBADO</td>\\r\\n                            <td>105</td>\\r\\n                            <td>0</td>\\r\\n                            <td>18</td>\\r\\n                            <td><a href=\"sala_votacion_detalle.aspx?prmID=29585\">Ver</a></td>\\r\\n                        </tr>\\r\\n                    \\r\\n                        <tr>\\r\\n                            <td>13 de sep de 2018 - 12:39</td>\\r\\n                            <td>P. Resolución N° 164</td>\\r\\n                            <td>Solicita a S. E. el Presidente de la República proponer...</td>\\r\\n                            <td></td>\\r\\n                            <td></td>\\r\\n                            <td>APROBADO</td>\\r\\n                            <td>75</td>\\r\\n                            <td>18</td>\\r\\n                            <td>29</td>\\r\\n                            <td><a href=\"sala_votacion_detalle.aspx?prmID=29584\">Ver</a></td>\\r\\n                        </tr>\\r\\n                    \\r\\n                        <tr>\\r\\n                            <td>13 de sep de 2018 - 12:38</td>\\r\\n                            <td>P. Resolución N° 313</td>\\r\\n                            <td>Solicita a S. E. el Presidente de la República la dictación...</td>\\r\\n                            <td></td>\\r\\n                            <td></td>\\r\\n                            <td>APROBADO</td>\\r\\n                            <td>111</td>\\r\\n                            <td>0</td>\\r\\n                            <td>9</td>\\r\\n                            <td><a href=\"sala_votacion_detalle.aspx?prmID=29583\">Ver</a></td>\\r\\n                        </tr>\\r\\n                    \\r\\n                        <tr>\\r\\n                            <td>13 de sep de 2018 - 10:14</td>\\r\\n                            <td>Otro Documento</td>\\r\\n                            <td>Petición formulada por la diputada Alejandra Sepúlveda,...</td>\\r\\n                            <td></td>\\r\\n                            <td></td>\\r\\n                            <td>APROBADO</td>\\r\\n                            <td>49</td>\\r\\n                            <td>24</td>\\r\\n                            <td>4</td>\\r\\n                            <td><a href=\"sala_votacion_detalle.aspx?prmID=29581\">Ver</a></td>\\r\\n                        </tr>\\r\\n                    \\r\\n                        <tr>\\r\\n                            <td>12 de sep de 2018 - 14:17</td>\\r\\n                            <td>Boletín N° 8924-07</td>\\r\\n                            <td>Reconoce y da protección al derecho a la identidad...</td>\\r\\n                            <td>Propuesta N° 2, que consta en las páginas 321 y 322...</td>\\r\\n                            <td>UNICA</td>\\r\\n                            <td>RECHAZADO</td>\\r\\n                            <td>73</td>\\r\\n                            <td>66</td>\\r\\n                            <td>1</td>\\r\\n                            <td><a href=\"sala_votacion_detalle.aspx?prmID=29578\">Ver</a></td>\\r\\n                        </tr>\\r\\n                    \\r\\n                        <tr>\\r\\n                            <td>12 de sep de 2018 - 14:14</td>\\r\\n                            <td>Boletín N° 8924-07</td>\\r\\n                            <td>Reconoce y da protección al derecho a la identidad...</td>\\r\\n                            <td>Propuesta N° 1, que consta en las páginas 306 a 321...</td>\\r\\n                            <td>UNICA</td>\\r\\n                            <td>APROBADO</td>\\r\\n                            <td>95</td>\\r\\n                            <td>46</td>\\r\\n                            <td>0</td>\\r\\n                            <td><a href=\"sala_votacion_detalle.aspx?prmID=29577\">Ver</a></td>\\r\\n                        </tr>\\r\\n                    \\r\\n                        <tr>\\r\\n                            <td>12 de sep de 2018 - 10:46</td>\\r\\n                            <td>Otro Documento</td>\\r\\n                            <td>Declaración de inadmisibilidad de la moción de los...</td>\\r\\n                            <td></td>\\r\\n                            <td></td>\\r\\n                            <td>RECHAZADO</td>\\r\\n                            <td>44</td>\\r\\n                            <td>43</td>\\r\\n                            <td>8</td>\\r\\n                            <td><a href=\"sala_votacion_detalle.aspx?prmID=29576\">Ver</a></td>\\r\\n                        </tr>\\r\\n                    \\r\\n                        <tr>\\r\\n                            <td>12 de sep de 2018 - 10:38</td>\\r\\n                            <td>Otro Documento</td>\\r\\n                            <td>Petición formulada por la diputada señora Loreto Carvajal,...</td>\\r\\n                            <td></td>\\r\\n                            <td></td>\\r\\n                            <td>APROBADO</td>\\r\\n                            <td>46</td>\\r\\n                            <td>35</td>\\r\\n                            <td>3</td>\\r\\n                            <td><a href=\"sala_votacion_detalle.aspx?prmID=29575\">Ver</a></td>\\r\\n                        </tr>\\r\\n                    \\r\\n                        <tr>\\r\\n                            <td>12 de sep de 2018 - 10:37</td>\\r\\n                            <td>Otro Documento</td>\\r\\n                            <td>Petición formulada por el diputado señor Raúl Leiva,...</td>\\r\\n                            <td></td>\\r\\n                            <td></td>\\r\\n                            <td>APROBADO</td>\\r\\n                            <td>56</td>\\r\\n                            <td>19</td>\\r\\n                            <td>4</td>\\r\\n                            <td><a href=\"sala_votacion_detalle.aspx?prmID=29574\">Ver</a></td>\\r\\n                        </tr>\\r\\n                    \\r\\n                        <tr>\\r\\n                            <td>11 de sep de 2018 - 17:30</td>\\r\\n                            <td>P. Resolución N° 322</td>\\r\\n                            <td>Solicita a S. E. el Presidente de la República que...</td>\\r\\n                            <td></td>\\r\\n                            <td></td>\\r\\n                            <td>APROBADO</td>\\r\\n                            <td>101</td>\\r\\n                            <td>0</td>\\r\\n                            <td>0</td>\\r\\n                            <td><a href=\"sala_votacion_detalle.aspx?prmID=29571\">Ver</a></td>\\r\\n                        </tr>\\r\\n                    \\r\\n                        <tr>\\r\\n                            <td>11 de sep de 2018 - 17:28</td>\\r\\n                            <td>P. Resolución N° 321</td>\\r\\n                            <td>Solicita a S. E. el Presidente de la República que...</td>\\r\\n                            <td></td>\\r\\n                            <td></td>\\r\\n                            <td>APROBADO</td>\\r\\n                            <td>102</td>\\r\\n                            <td>0</td>\\r\\n                            <td>1</td>\\r\\n                            <td><a href=\"sala_votacion_detalle.aspx?prmID=29570\">Ver</a></td>\\r\\n                        </tr>\\r\\n                    \\r\\n                        <tr>\\r\\n                            <td>11 de sep de 2018 - 17:26</td>\\r\\n                            <td>P. Resolución N° 320</td>\\r\\n                            <td>Solicita a S. E. el Presidente de la República, a través...</td>\\r\\n                            <td></td>\\r\\n                            <td></td>\\r\\n                            <td>APROBADO</td>\\r\\n                            <td>100</td>\\r\\n                            <td>0</td>\\r\\n                            <td>0</td>\\r\\n                            <td><a href=\"sala_votacion_detalle.aspx?prmID=29569\">Ver</a></td>\\r\\n                        </tr>\\r\\n                    \\r\\n                        <tr>\\r\\n                            <td>11 de sep de 2018 - 13:49</td>\\r\\n                            <td>Boletín N° 11317-21</td>\\r\\n                            <td>Amplía el procedimiento de relocalización a concesiones...</td>\\r\\n                            <td>Artículo tercero transitorio propuesto por la Comisión...</td>\\r\\n                            <td>PARTICULAR</td>\\r\\n                            <td>APROBADO</td>\\r\\n                            <td>79</td>\\r\\n                            <td>49</td>\\r\\n                            <td>6</td>\\r\\n                            <td><a href=\"sala_votacion_detalle.aspx?prmID=29564\">Ver</a></td>\\r\\n                        </tr>\\r\\n                    \\r\\n                        <tr>\\r\\n                            <td>11 de sep de 2018 - 13:48</td>\\r\\n                            <td>Boletín N° 11317-21</td>\\r\\n                            <td>Amplía el procedimiento de relocalización a concesiones...</td>\\r\\n                            <td>Artículo 6 propuesto por la Comisión de Pesca en su...</td>\\r\\n                            <td>PARTICULAR</td>\\r\\n                            <td>APROBADO</td>\\r\\n                            <td>79</td>\\r\\n                            <td>47</td>\\r\\n                            <td>9</td>\\r\\n                            <td><a href=\"sala_votacion_detalle.aspx?prmID=29563\">Ver</a></td>\\r\\n                        </tr>\\r\\n                    \\r\\n                        <tr>\\r\\n                            <td>11 de sep de 2018 - 13:48</td>\\r\\n                            <td>Boletín N° 11317-21</td>\\r\\n                            <td>Amplía el procedimiento de relocalización a concesiones...</td>\\r\\n                            <td>Artículo 5 cuya votación separada ha sido solicitada...</td>\\r\\n                            <td>PARTICULAR</td>\\r\\n                            <td>APROBADO</td>\\r\\n                            <td>71</td>\\r\\n                            <td>60</td>\\r\\n                            <td>4</td>\\r\\n                            <td><a href=\"sala_votacion_detalle.aspx?prmID=29562\">Ver</a></td>\\r\\n                        </tr>\\r\\n                    \\r\\n                    </tbody>\\r\\n                    </table>\\r\\n                    \\r\\n                \\r\\n            \\r\\n            \\r\\n</div>\\r\\n            \\r\\n            \\r\\n            \\r\\n     </div>\\r\\n\\t <div class=\"clear\"></div>\\r\\n                \\r\\n\\t     </div>\\r\\n\\r\\n\\t\\t\\r\\n\\t            \\r\\n\\t            \\t\\t\\r\\n\\t  \\r\\n\\t \\r\\n\\t\\t\\t\\t\\r\\n\\t\\t\\t\\t\\r\\n\\t\\t\\t\\t\\r\\n\\t\\t\\t\\t\\t\\r\\n\\t\\t\\t\\t\\r\\n\\t\\t\\t\\t\\r\\n\\r\\n            </div>\\r\\n            <div class=\"clear\">\\r\\n            </div>\\r\\n        </div>\\r\\n        \\r\\n<div id=\"footer\">\\r\\n\\t<div class=\"imgSet\">\\r\\n\\t\\t<img src=\"/common/images/logo-footer.png\" alt=\"Logo de la Cámara de Diputados\" />\\r\\n\\t</div>\\r\\n\\t<div class=\"info\">\\r\\n\\t\\t<h2>Cámara de Diputados de Chile</h2>\\r\\n\\t\\t<p>Avenida Pedro Montt s/n Valparaíso.<br />\\r\\n            Compañía 1131, Santiago.</p>\\r\\n\\t\\t<p>Teléfonos: (56-32) 250 5000 - (56-2) 2674 7800</p>\\r\\n\\t\\t<p class=\"optimizacion\">Sitio Optimizado para Internet Explorer 7.0, Firefox 3.0 o superior.</p>\\r\\n\\t\\t</div>\\r\\n\\t\\t<div class=\"suscriptions\">\\r\\n\\t\\t<ul>\\r\\n\\t\\t\\t<li class=\"rss\"><a href=\"prensa/prensa_rss.aspx\">Cámara de Diputados en RSS</a></li>\\r\\n\\t\\t\\t<li><em><a href=\"/prensa/suscripciones.aspx\">¿Qué es RSS?</a></em></a></li>\\r\\n\\t\\t\\t<li>\\r\\n\\t\\t\\t\\t<ul class=\"nav\">\\r\\n\\t\\t\\t\\t\\t<li class=\"first-child\"><a href=\"http://www.cdtv.cl\" target=\"_blank\">Televisión</a></li><li><a href=\"http://www.radiocamara.cl\" target=\"_blank\">Radio</a></li>\\r\\n\\t\\t\\t\\t</ul>\\r\\n\\t\\t\\t</li>\\r\\n\\t\\t\\t</ul>\\r\\n\\t</div>\\r\\n\\t  \\t<ul class=\"menu nav\">\\r\\n\\t\\t<li class=\"first-child\"><a href=\"/camara/camara_diputados.aspx\">Acerca de la Cámara de Diputados</a></li><li><a href=\"/media/docs/privacidad.pdf\" target=\"_blank\" >Políticas de Privacidad</a></li><li><a href=\"/media/docs/condiciones.pdf\" target=\"_blank\">Condiciones de Uso</a></li><li><a href=\"/mapa.aspx\">Mapa del Sitio</a></li><li><a href=\"/camara/transparencia.aspx\">Transparencia activa</a></li>\\r\\n\\t</ul>\\r\\n</div>\\r\\n\\r\\n    </form>\\r\\n   \\r\\n</body>\\r\\n</html>\\r\\n'"
      ]
     },
     "execution_count": 37,
     "metadata": {},
     "output_type": "execute_result"
    }
   ],
   "source": [
    "res.text"
   ]
  },
  {
   "cell_type": "markdown",
   "metadata": {},
   "source": [
    "You can see the entire html (as plain text) content associated with the request. In order to parser and exctract information from this document we shall use [BeautifulSoup](https://www.crummy.com/software/BeautifulSoup/bs4/doc/).<br>\n",
    "Using the ```bs4.BeautifulSoup(text, struct_of_data)``` method we can initialize an object which allow us to request and work with all tools that beatigulsoup give us. The ```'xlml'``` is an easy-to-use library for processing XML and HTML in the Python."
   ]
  },
  {
   "cell_type": "code",
   "execution_count": 38,
   "metadata": {},
   "outputs": [],
   "source": [
    "soup = bs4.BeautifulSoup(res.text, 'lxml')"
   ]
  },
  {
   "cell_type": "markdown",
   "metadata": {},
   "source": [
    "It is important to know the HTML syntax. In order, to explore the strcture we need to **inspect** the web page using the navigator tools. A direct way is to select the item using the right button and click on inspect.\n",
    "![a](./images/navigation.png)"
   ]
  },
  {
   "cell_type": "markdown",
   "metadata": {},
   "source": [
    "Now we can select everything (in the html tags) that we need. For example we can select **the table** section. The selection function returns a list of objects that match the entered keyword. We use ```.``` to refer to **class names** and ```#``` for **ids**"
   ]
  },
  {
   "cell_type": "code",
   "execution_count": 64,
   "metadata": {},
   "outputs": [
    {
     "name": "stdout",
     "output_type": "stream",
     "text": [
      "<class 'list'>\n"
     ]
    }
   ],
   "source": [
    "table = soup.select('.tabla') # From the HTML we selected the class name \"tabla\" \n",
    "print(type(table))"
   ]
  },
  {
   "cell_type": "markdown",
   "metadata": {},
   "source": [
    "Alternatively, we could get info from tags by accessing to the soup attribute. If you select a specific HTML object (no list, as we saw above). You can clean tags to recover the text: we must use the ```.getText ()``` method or the ```.text``` attribute"
   ]
  },
  {
   "cell_type": "code",
   "execution_count": 41,
   "metadata": {},
   "outputs": [
    {
     "name": "stdout",
     "output_type": "stream",
     "text": [
      "\n",
      "\n",
      "Fecha\n",
      "Documento\n",
      "Materia\n",
      "Artículo\n",
      "Tipo\n",
      "Resultado\n",
      "Afir.\n",
      "Neg.\n",
      "Abst.\n",
      "Detalle\n",
      "\n",
      "\n"
     ]
    }
   ],
   "source": [
    "header = soup.thead\n",
    "print(header.getText())"
   ]
  },
  {
   "cell_type": "markdown",
   "metadata": {},
   "source": [
    "The complete documentation of **BeautifulSoup** would be find [here](https://www.crummy.com/software/BeautifulSoup/bs4/doc/). Feel free to explore and use all powerful methods!"
   ]
  },
  {
   "cell_type": "markdown",
   "metadata": {},
   "source": [
    "### Extracting Data from Chilean Deputies Web Page"
   ]
  },
  {
   "cell_type": "markdown",
   "metadata": {},
   "source": [
    "The ```find_all()``` method scans the entire document looking for results, but sometimes you only want to find one result; in those cases it is convenient to use the ```find()``` method"
   ]
  },
  {
   "cell_type": "code",
   "execution_count": 79,
   "metadata": {},
   "outputs": [
    {
     "name": "stdout",
     "output_type": "stream",
     "text": [
      "<class 'bs4.element.Tag'>\n"
     ]
    }
   ],
   "source": [
    "table = soup.find('table', attrs={'class': 'tabla'})\n",
    "print(type(table))"
   ]
  },
  {
   "cell_type": "markdown",
   "metadata": {},
   "source": [
    "Now we can iterate over table elements.\n",
    "![a](./images/tablehtml.png)"
   ]
  },
  {
   "cell_type": "code",
   "execution_count": 88,
   "metadata": {},
   "outputs": [
    {
     "name": "stdout",
     "output_type": "stream",
     "text": [
      "13 de sep de 2018 - 12:47\n",
      "--------------------\n",
      "Boletín N° 11702-13\n",
      "--------------------\n",
      "Modifica el Código del Trabajo con el objeto de hacer...\n",
      "--------------------\n",
      "\n",
      "--------------------\n",
      "GENERAL\n",
      "--------------------\n",
      "APROBADO\n",
      "--------------------\n",
      "128\n",
      "--------------------\n",
      "0\n",
      "--------------------\n",
      "0\n",
      "--------------------\n",
      "Ver\n",
      "--------------------\n",
      "13 de sep de 2018 - 12:45\n",
      "--------------------\n",
      "Boletín N° 11787-22\n",
      "--------------------\n",
      "Modifica la ley N°18.290, de Tránsito, para eximir...\n",
      "--------------------\n",
      "\n",
      "--------------------\n",
      "GENERAL\n",
      "--------------------\n",
      "APROBADO\n",
      "--------------------\n",
      "126\n",
      "--------------------\n",
      "0\n",
      "--------------------\n",
      "0\n",
      "--------------------\n",
      "Ver\n",
      "--------------------\n",
      "13 de sep de 2018 - 12:44\n",
      "--------------------\n",
      "Boletín N° 11972-10\n",
      "--------------------\n",
      "Aprueba el Tercer Protocolo Adicional al Acuerdo por...\n",
      "--------------------\n",
      "\n",
      "--------------------\n",
      "UNICA\n",
      "--------------------\n",
      "APROBADO\n",
      "--------------------\n",
      "94\n",
      "--------------------\n",
      "21\n",
      "--------------------\n",
      "11\n",
      "--------------------\n",
      "Ver\n",
      "--------------------\n",
      "13 de sep de 2018 - 12:42\n",
      "--------------------\n",
      "Boletín N° 11487-04\n",
      "--------------------\n",
      "Autoriza a erigir un monumento en memoria del ex Diputado...\n",
      "--------------------\n",
      "\n",
      "--------------------\n",
      "GENERAL\n",
      "--------------------\n",
      "APROBADO\n",
      "--------------------\n",
      "118\n",
      "--------------------\n",
      "0\n",
      "--------------------\n",
      "8\n",
      "--------------------\n",
      "Ver\n",
      "--------------------\n",
      "13 de sep de 2018 - 12:41\n",
      "--------------------\n",
      "Boletín N° 11749-10\n",
      "--------------------\n",
      "Aprueba el Protocolo de Modificación del Tratado de...\n",
      "--------------------\n",
      "\n",
      "--------------------\n",
      "UNICA\n",
      "--------------------\n",
      "APROBADO\n",
      "--------------------\n",
      "98\n",
      "--------------------\n",
      "23\n",
      "--------------------\n",
      "5\n",
      "--------------------\n",
      "Ver\n",
      "--------------------\n",
      "13 de sep de 2018 - 12:40\n",
      "--------------------\n",
      "P. Resolución N° 166\n",
      "--------------------\n",
      "Solicita a S. E. el Presidente de la República que...\n",
      "--------------------\n",
      "\n",
      "--------------------\n",
      "\n",
      "--------------------\n",
      "APROBADO\n",
      "--------------------\n",
      "105\n",
      "--------------------\n",
      "0\n",
      "--------------------\n",
      "18\n",
      "--------------------\n",
      "Ver\n",
      "--------------------\n",
      "13 de sep de 2018 - 12:39\n",
      "--------------------\n",
      "P. Resolución N° 164\n",
      "--------------------\n",
      "Solicita a S. E. el Presidente de la República proponer...\n",
      "--------------------\n",
      "\n",
      "--------------------\n",
      "\n",
      "--------------------\n",
      "APROBADO\n",
      "--------------------\n",
      "75\n",
      "--------------------\n",
      "18\n",
      "--------------------\n",
      "29\n",
      "--------------------\n",
      "Ver\n",
      "--------------------\n",
      "13 de sep de 2018 - 12:38\n",
      "--------------------\n",
      "P. Resolución N° 313\n",
      "--------------------\n",
      "Solicita a S. E. el Presidente de la República la dictación...\n",
      "--------------------\n",
      "\n",
      "--------------------\n",
      "\n",
      "--------------------\n",
      "APROBADO\n",
      "--------------------\n",
      "111\n",
      "--------------------\n",
      "0\n",
      "--------------------\n",
      "9\n",
      "--------------------\n",
      "Ver\n",
      "--------------------\n",
      "13 de sep de 2018 - 10:14\n",
      "--------------------\n",
      "Otro Documento\n",
      "--------------------\n",
      "Petición formulada por la diputada Alejandra Sepúlveda,...\n",
      "--------------------\n",
      "\n",
      "--------------------\n",
      "\n",
      "--------------------\n",
      "APROBADO\n",
      "--------------------\n",
      "49\n",
      "--------------------\n",
      "24\n",
      "--------------------\n",
      "4\n",
      "--------------------\n",
      "Ver\n",
      "--------------------\n",
      "12 de sep de 2018 - 14:17\n",
      "--------------------\n",
      "Boletín N° 8924-07\n",
      "--------------------\n",
      "Reconoce y da protección al derecho a la identidad...\n",
      "--------------------\n",
      "Propuesta N° 2, que consta en las páginas 321 y 322...\n",
      "--------------------\n",
      "UNICA\n",
      "--------------------\n",
      "RECHAZADO\n",
      "--------------------\n",
      "73\n",
      "--------------------\n",
      "66\n",
      "--------------------\n",
      "1\n",
      "--------------------\n",
      "Ver\n",
      "--------------------\n",
      "12 de sep de 2018 - 14:14\n",
      "--------------------\n",
      "Boletín N° 8924-07\n",
      "--------------------\n",
      "Reconoce y da protección al derecho a la identidad...\n",
      "--------------------\n",
      "Propuesta N° 1, que consta en las páginas 306 a 321...\n",
      "--------------------\n",
      "UNICA\n",
      "--------------------\n",
      "APROBADO\n",
      "--------------------\n",
      "95\n",
      "--------------------\n",
      "46\n",
      "--------------------\n",
      "0\n",
      "--------------------\n",
      "Ver\n",
      "--------------------\n",
      "12 de sep de 2018 - 10:46\n",
      "--------------------\n",
      "Otro Documento\n",
      "--------------------\n",
      "Declaración de inadmisibilidad de la moción de los...\n",
      "--------------------\n",
      "\n",
      "--------------------\n",
      "\n",
      "--------------------\n",
      "RECHAZADO\n",
      "--------------------\n",
      "44\n",
      "--------------------\n",
      "43\n",
      "--------------------\n",
      "8\n",
      "--------------------\n",
      "Ver\n",
      "--------------------\n",
      "12 de sep de 2018 - 10:38\n",
      "--------------------\n",
      "Otro Documento\n",
      "--------------------\n",
      "Petición formulada por la diputada señora Loreto Carvajal,...\n",
      "--------------------\n",
      "\n",
      "--------------------\n",
      "\n",
      "--------------------\n",
      "APROBADO\n",
      "--------------------\n",
      "46\n",
      "--------------------\n",
      "35\n",
      "--------------------\n",
      "3\n",
      "--------------------\n",
      "Ver\n",
      "--------------------\n",
      "12 de sep de 2018 - 10:37\n",
      "--------------------\n",
      "Otro Documento\n",
      "--------------------\n",
      "Petición formulada por el diputado señor Raúl Leiva,...\n",
      "--------------------\n",
      "\n",
      "--------------------\n",
      "\n",
      "--------------------\n",
      "APROBADO\n",
      "--------------------\n",
      "56\n",
      "--------------------\n",
      "19\n",
      "--------------------\n",
      "4\n",
      "--------------------\n",
      "Ver\n",
      "--------------------\n",
      "11 de sep de 2018 - 17:30\n",
      "--------------------\n",
      "P. Resolución N° 322\n",
      "--------------------\n",
      "Solicita a S. E. el Presidente de la República que...\n",
      "--------------------\n",
      "\n",
      "--------------------\n",
      "\n",
      "--------------------\n",
      "APROBADO\n",
      "--------------------\n",
      "101\n",
      "--------------------\n",
      "0\n",
      "--------------------\n",
      "0\n",
      "--------------------\n",
      "Ver\n",
      "--------------------\n",
      "11 de sep de 2018 - 17:28\n",
      "--------------------\n",
      "P. Resolución N° 321\n",
      "--------------------\n",
      "Solicita a S. E. el Presidente de la República que...\n",
      "--------------------\n",
      "\n",
      "--------------------\n",
      "\n",
      "--------------------\n",
      "APROBADO\n",
      "--------------------\n",
      "102\n",
      "--------------------\n",
      "0\n",
      "--------------------\n",
      "1\n",
      "--------------------\n",
      "Ver\n",
      "--------------------\n",
      "11 de sep de 2018 - 17:26\n",
      "--------------------\n",
      "P. Resolución N° 320\n",
      "--------------------\n",
      "Solicita a S. E. el Presidente de la República, a través...\n",
      "--------------------\n",
      "\n",
      "--------------------\n",
      "\n",
      "--------------------\n",
      "APROBADO\n",
      "--------------------\n",
      "100\n",
      "--------------------\n",
      "0\n",
      "--------------------\n",
      "0\n",
      "--------------------\n",
      "Ver\n",
      "--------------------\n",
      "11 de sep de 2018 - 13:49\n",
      "--------------------\n",
      "Boletín N° 11317-21\n",
      "--------------------\n",
      "Amplía el procedimiento de relocalización a concesiones...\n",
      "--------------------\n",
      "Artículo tercero transitorio propuesto por la Comisión...\n",
      "--------------------\n",
      "PARTICULAR\n",
      "--------------------\n",
      "APROBADO\n",
      "--------------------\n",
      "79\n",
      "--------------------\n",
      "49\n",
      "--------------------\n",
      "6\n",
      "--------------------\n",
      "Ver\n",
      "--------------------\n",
      "11 de sep de 2018 - 13:48\n",
      "--------------------\n",
      "Boletín N° 11317-21\n",
      "--------------------\n",
      "Amplía el procedimiento de relocalización a concesiones...\n",
      "--------------------\n",
      "Artículo 6 propuesto por la Comisión de Pesca en su...\n",
      "--------------------\n",
      "PARTICULAR\n",
      "--------------------\n",
      "APROBADO\n",
      "--------------------\n",
      "79\n",
      "--------------------\n",
      "47\n",
      "--------------------\n",
      "9\n",
      "--------------------\n",
      "Ver\n",
      "--------------------\n",
      "11 de sep de 2018 - 13:48\n",
      "--------------------\n",
      "Boletín N° 11317-21\n",
      "--------------------\n",
      "Amplía el procedimiento de relocalización a concesiones...\n",
      "--------------------\n",
      "Artículo 5 cuya votación separada ha sido solicitada...\n",
      "--------------------\n",
      "PARTICULAR\n",
      "--------------------\n",
      "APROBADO\n",
      "--------------------\n",
      "71\n",
      "--------------------\n",
      "60\n",
      "--------------------\n",
      "4\n",
      "--------------------\n",
      "Ver\n",
      "--------------------\n"
     ]
    }
   ],
   "source": [
    "for bar in table.find_all('tr'):\n",
    "    for foo in bar.find_all('td'):\n",
    "        print(foo.text)\n",
    "        print('-'*20)"
   ]
  },
  {
   "cell_type": "markdown",
   "metadata": {},
   "source": [
    "It is also necessary to keep the header table"
   ]
  },
  {
   "cell_type": "code",
   "execution_count": 130,
   "metadata": {},
   "outputs": [],
   "source": [
    "header_raw = table.thead.text"
   ]
  },
  {
   "cell_type": "code",
   "execution_count": 135,
   "metadata": {},
   "outputs": [
    {
     "name": "stdout",
     "output_type": "stream",
     "text": [
      "['Fecha', 'Documento', 'Materia', 'Artículo', 'Tipo', 'Resultado', 'Afir.', 'Neg.', 'Abst.', 'Detalle']\n"
     ]
    }
   ],
   "source": [
    "header = header_raw.split('\\n')[2:-2]\n",
    "print(header)"
   ]
  },
  {
   "cell_type": "markdown",
   "metadata": {},
   "source": [
    "### Pre-processing text "
   ]
  },
  {
   "cell_type": "markdown",
   "metadata": {},
   "source": [
    "At this point, we've collected a lot unstructured data (plain text). So, To deal with floating text and create our relations and structures, we need to parse the language properties. In particular, we need to use a python package that allow us to work with regular expresion: [Regex](https://docs.python.org/3/library/re.html).<br><br>\n",
    "Regex is a default-installed python package. We can use it by coding ```import re``` "
   ]
  },
  {
   "cell_type": "code",
   "execution_count": 136,
   "metadata": {},
   "outputs": [
    {
     "data": {
      "text/plain": [
       "'2.2.1'"
      ]
     },
     "execution_count": 136,
     "metadata": {},
     "output_type": "execute_result"
    }
   ],
   "source": [
    "import re\n",
    "re.__version__"
   ]
  },
  {
   "cell_type": "markdown",
   "metadata": {},
   "source": [
    "![](./images/regex_reference.png)"
   ]
  },
  {
   "cell_type": "markdown",
   "metadata": {},
   "source": [
    "We'll make general Regex formulas or pattern to find substring inside the text. To create a formula you have to use ```re.compile(S)```, where S is a string with a regex pattern that uses regex syntax (see Regex quick reference image)."
   ]
  },
  {
   "cell_type": "markdown",
   "metadata": {},
   "source": [
    "First, we save the strings in python lists"
   ]
  },
  {
   "cell_type": "code",
   "execution_count": 386,
   "metadata": {},
   "outputs": [
    {
     "name": "stdout",
     "output_type": "stream",
     "text": [
      "20\n"
     ]
    }
   ],
   "source": [
    "table_list = []\n",
    "for bar in table.find_all('tr'):\n",
    "    row = []\n",
    "    for foo in bar.find_all('td'):\n",
    "        row.append(foo.text)\n",
    "    table_list.append(row)\n",
    "table_list = table_list[1:] #because the 0 element is void\n",
    "print(len(table_list))"
   ]
  },
  {
   "cell_type": "markdown",
   "metadata": {},
   "source": [
    "We will divide the schedule element into date and time"
   ]
  },
  {
   "cell_type": "code",
   "execution_count": 148,
   "metadata": {},
   "outputs": [],
   "source": [
    "schedules = [h[0] for h in table_list]"
   ]
  },
  {
   "cell_type": "code",
   "execution_count": 187,
   "metadata": {},
   "outputs": [],
   "source": [
    "date_pattern = re.compile('\\d\\d?\\s.*(20)\\d{2}')\n",
    "time_pattern = re.compile('\\d{2}:\\d{2}')"
   ]
  },
  {
   "cell_type": "markdown",
   "metadata": {},
   "source": [
    "There is two main methods to find substrings: \n",
    "- ```re.match()``` checks for a match only at the beginning of the string\n",
    "- ```re.search()``` checks for a match anywhere in the string"
   ]
  },
  {
   "cell_type": "code",
   "execution_count": 201,
   "metadata": {},
   "outputs": [],
   "source": [
    "dates = []\n",
    "times = []\n",
    "for sch in schedules:\n",
    "    date = date_pattern.match(sch).group()\n",
    "    time = time_pattern.search(sch).group()\n",
    "    dates.append(date)\n",
    "    times.append(time)"
   ]
  },
  {
   "cell_type": "markdown",
   "metadata": {},
   "source": [
    "We can do whatever we want using [Regex library](https://docs.python.org/3/library/re.html)"
   ]
  },
  {
   "cell_type": "markdown",
   "metadata": {},
   "source": [
    "### Formatting pandas tables"
   ]
  },
  {
   "cell_type": "code",
   "execution_count": 204,
   "metadata": {},
   "outputs": [],
   "source": [
    "import pandas as pd"
   ]
  },
  {
   "cell_type": "code",
   "execution_count": 205,
   "metadata": {},
   "outputs": [
    {
     "data": {
      "text/plain": [
       "['Fecha',\n",
       " 'Documento',\n",
       " 'Materia',\n",
       " 'Artículo',\n",
       " 'Tipo',\n",
       " 'Resultado',\n",
       " 'Afir.',\n",
       " 'Neg.',\n",
       " 'Abst.',\n",
       " 'Detalle']"
      ]
     },
     "execution_count": 205,
     "metadata": {},
     "output_type": "execute_result"
    }
   ],
   "source": [
    "header"
   ]
  },
  {
   "cell_type": "code",
   "execution_count": 220,
   "metadata": {},
   "outputs": [],
   "source": [
    "new_table = pd.DataFrame()\n",
    "new_table['Fecha'] = dates\n",
    "new_table['Hora'] = times\n",
    "for i, he in enumerate(header[1:-1]):\n",
    "    new_table[he] = [h[i+1] for h in table_list]"
   ]
  },
  {
   "cell_type": "code",
   "execution_count": 388,
   "metadata": {},
   "outputs": [
    {
     "data": {
      "text/html": [
       "<div>\n",
       "<style scoped>\n",
       "    .dataframe tbody tr th:only-of-type {\n",
       "        vertical-align: middle;\n",
       "    }\n",
       "\n",
       "    .dataframe tbody tr th {\n",
       "        vertical-align: top;\n",
       "    }\n",
       "\n",
       "    .dataframe thead th {\n",
       "        text-align: right;\n",
       "    }\n",
       "</style>\n",
       "<table border=\"1\" class=\"dataframe\">\n",
       "  <thead>\n",
       "    <tr style=\"text-align: right;\">\n",
       "      <th></th>\n",
       "      <th>Fecha</th>\n",
       "      <th>Hora</th>\n",
       "      <th>Documento</th>\n",
       "      <th>Materia</th>\n",
       "      <th>Artículo</th>\n",
       "      <th>Tipo</th>\n",
       "      <th>Resultado</th>\n",
       "      <th>Afir.</th>\n",
       "      <th>Neg.</th>\n",
       "      <th>Abst.</th>\n",
       "    </tr>\n",
       "  </thead>\n",
       "  <tbody>\n",
       "    <tr>\n",
       "      <th>0</th>\n",
       "      <td>13 de sep de 2018</td>\n",
       "      <td>12:47</td>\n",
       "      <td>Boletín N° 11702-13</td>\n",
       "      <td>Modifica el Código del Trabajo con el objeto d...</td>\n",
       "      <td></td>\n",
       "      <td>GENERAL</td>\n",
       "      <td>APROBADO</td>\n",
       "      <td>128</td>\n",
       "      <td>0</td>\n",
       "      <td>0</td>\n",
       "    </tr>\n",
       "    <tr>\n",
       "      <th>1</th>\n",
       "      <td>13 de sep de 2018</td>\n",
       "      <td>12:45</td>\n",
       "      <td>Boletín N° 11787-22</td>\n",
       "      <td>Modifica la ley N°18.290, de Tránsito, para ex...</td>\n",
       "      <td></td>\n",
       "      <td>GENERAL</td>\n",
       "      <td>APROBADO</td>\n",
       "      <td>126</td>\n",
       "      <td>0</td>\n",
       "      <td>0</td>\n",
       "    </tr>\n",
       "    <tr>\n",
       "      <th>2</th>\n",
       "      <td>13 de sep de 2018</td>\n",
       "      <td>12:44</td>\n",
       "      <td>Boletín N° 11972-10</td>\n",
       "      <td>Aprueba el Tercer Protocolo Adicional al Acuer...</td>\n",
       "      <td></td>\n",
       "      <td>UNICA</td>\n",
       "      <td>APROBADO</td>\n",
       "      <td>94</td>\n",
       "      <td>21</td>\n",
       "      <td>11</td>\n",
       "    </tr>\n",
       "    <tr>\n",
       "      <th>3</th>\n",
       "      <td>13 de sep de 2018</td>\n",
       "      <td>12:42</td>\n",
       "      <td>Boletín N° 11487-04</td>\n",
       "      <td>Autoriza a erigir un monumento en memoria del ...</td>\n",
       "      <td></td>\n",
       "      <td>GENERAL</td>\n",
       "      <td>APROBADO</td>\n",
       "      <td>118</td>\n",
       "      <td>0</td>\n",
       "      <td>8</td>\n",
       "    </tr>\n",
       "    <tr>\n",
       "      <th>4</th>\n",
       "      <td>13 de sep de 2018</td>\n",
       "      <td>12:41</td>\n",
       "      <td>Boletín N° 11749-10</td>\n",
       "      <td>Aprueba el Protocolo de Modificación del Trata...</td>\n",
       "      <td></td>\n",
       "      <td>UNICA</td>\n",
       "      <td>APROBADO</td>\n",
       "      <td>98</td>\n",
       "      <td>23</td>\n",
       "      <td>5</td>\n",
       "    </tr>\n",
       "  </tbody>\n",
       "</table>\n",
       "</div>"
      ],
      "text/plain": [
       "               Fecha   Hora            Documento  \\\n",
       "0  13 de sep de 2018  12:47  Boletín N° 11702-13   \n",
       "1  13 de sep de 2018  12:45  Boletín N° 11787-22   \n",
       "2  13 de sep de 2018  12:44  Boletín N° 11972-10   \n",
       "3  13 de sep de 2018  12:42  Boletín N° 11487-04   \n",
       "4  13 de sep de 2018  12:41  Boletín N° 11749-10   \n",
       "\n",
       "                                             Materia Artículo     Tipo  \\\n",
       "0  Modifica el Código del Trabajo con el objeto d...           GENERAL   \n",
       "1  Modifica la ley N°18.290, de Tránsito, para ex...           GENERAL   \n",
       "2  Aprueba el Tercer Protocolo Adicional al Acuer...             UNICA   \n",
       "3  Autoriza a erigir un monumento en memoria del ...           GENERAL   \n",
       "4  Aprueba el Protocolo de Modificación del Trata...             UNICA   \n",
       "\n",
       "  Resultado Afir. Neg. Abst.  \n",
       "0  APROBADO   128    0     0  \n",
       "1  APROBADO   126    0     0  \n",
       "2  APROBADO    94   21    11  \n",
       "3  APROBADO   118    0     8  \n",
       "4  APROBADO    98   23     5  "
      ]
     },
     "execution_count": 388,
     "metadata": {},
     "output_type": "execute_result"
    }
   ],
   "source": [
    "new_table.head()"
   ]
  },
  {
   "cell_type": "markdown",
   "metadata": {},
   "source": [
    "The last column has a link to see the votes detail. So, we can open those links by looping in the strcture"
   ]
  },
  {
   "cell_type": "code",
   "execution_count": 389,
   "metadata": {},
   "outputs": [],
   "source": [
    "res = requests.get('https://www.camara.cl/camara/diputados.aspx#tab')\n",
    "soup2 = bs4.BeautifulSoup(res.text, 'lxml')"
   ]
  },
  {
   "cell_type": "code",
   "execution_count": 313,
   "metadata": {},
   "outputs": [],
   "source": [
    "foo = soup2.find('ul', {'class':'diputados'})\n",
    "pattern_dip = re.compile('^\\w*')\n",
    "names_dip = {}\n",
    "for index, value in enumerate(foo.find_all('h5')):\n",
    "    name = value.find('a').text\n",
    "    name = \" \".join(name.split()[1:])\n",
    "    names_dip[name] = index"
   ]
  },
  {
   "cell_type": "code",
   "execution_count": 331,
   "metadata": {},
   "outputs": [],
   "source": [
    "len(names_dip)\n",
    "keys = [value for key, value in names_dip.items()]"
   ]
  },
  {
   "cell_type": "code",
   "execution_count": 397,
   "metadata": {},
   "outputs": [],
   "source": [
    "base = 'https://www.camara.cl/trabajamos/'\n",
    "favor = []\n",
    "contra = []\n",
    "abstencion = []\n",
    "for index, a in enumerate(table.find_all('a')):\n",
    "    url = base+a['href']\n",
    "    res = requests.get(url)\n",
    "    soup2 = bs4.BeautifulSoup(res.text, 'lxml')\n",
    "    tabla2 = soup2.find_all('div', {'class':'stress'})\n",
    "    partial_vote = []\n",
    "    for t in tabla2[1:-2]:\n",
    "        partial = [] #to save favor - contra - abstencion\n",
    "        votes_partial = np.zeros(len(names_dip)) # a vector with 0 for each diputado\n",
    "        for aa in t.find_all('a'):\n",
    "            list_name = aa.text.split()\n",
    "            if list_name[0] == 'Del':\n",
    "                m = list_name[-1]+' '+list_name[0]+' '+list_name[1]\n",
    "            else:\n",
    "                m = list_name[-1]+' '+list_name[0]\n",
    "            try:\n",
    "                iloc = names_dip[m]\n",
    "                votes_partial[iloc] = 1\n",
    "            except:\n",
    "                continue\n",
    "        partial_vote.append(votes_partial)\n",
    "    favor.append(partial_vote[0])\n",
    "    contra.append(partial_vote[1])\n",
    "    abstencion.append(partial_vote[2])"
   ]
  },
  {
   "cell_type": "code",
   "execution_count": 398,
   "metadata": {},
   "outputs": [],
   "source": [
    "votes_info = pd.DataFrame(index=names_dip.keys())\n",
    "for label, votes in zip(new_table['Documento'],favor):\n",
    "    votes_info[label] = votes"
   ]
  },
  {
   "cell_type": "code",
   "execution_count": 399,
   "metadata": {},
   "outputs": [
    {
     "data": {
      "text/html": [
       "<div>\n",
       "<style scoped>\n",
       "    .dataframe tbody tr th:only-of-type {\n",
       "        vertical-align: middle;\n",
       "    }\n",
       "\n",
       "    .dataframe tbody tr th {\n",
       "        vertical-align: top;\n",
       "    }\n",
       "\n",
       "    .dataframe thead th {\n",
       "        text-align: right;\n",
       "    }\n",
       "</style>\n",
       "<table border=\"1\" class=\"dataframe\">\n",
       "  <thead>\n",
       "    <tr style=\"text-align: right;\">\n",
       "      <th></th>\n",
       "      <th>Boletín N° 11702-13</th>\n",
       "      <th>Boletín N° 11787-22</th>\n",
       "      <th>Boletín N° 11972-10</th>\n",
       "      <th>Boletín N° 11487-04</th>\n",
       "      <th>Boletín N° 11749-10</th>\n",
       "      <th>P. Resolución N° 166</th>\n",
       "      <th>P. Resolución N° 164</th>\n",
       "      <th>P. Resolución N° 313</th>\n",
       "      <th>Otro Documento</th>\n",
       "      <th>Boletín N° 8924-07</th>\n",
       "      <th>P. Resolución N° 322</th>\n",
       "      <th>P. Resolución N° 321</th>\n",
       "      <th>P. Resolución N° 320</th>\n",
       "      <th>Boletín N° 11317-21</th>\n",
       "    </tr>\n",
       "  </thead>\n",
       "  <tbody>\n",
       "    <tr>\n",
       "      <th>Florcita Alarcón</th>\n",
       "      <td>1.0</td>\n",
       "      <td>1.0</td>\n",
       "      <td>0.0</td>\n",
       "      <td>1.0</td>\n",
       "      <td>0.0</td>\n",
       "      <td>0.0</td>\n",
       "      <td>1.0</td>\n",
       "      <td>1.0</td>\n",
       "      <td>1.0</td>\n",
       "      <td>1.0</td>\n",
       "      <td>1.0</td>\n",
       "      <td>1.0</td>\n",
       "      <td>1.0</td>\n",
       "      <td>0.0</td>\n",
       "    </tr>\n",
       "    <tr>\n",
       "      <th>Jorge Alessandri</th>\n",
       "      <td>1.0</td>\n",
       "      <td>1.0</td>\n",
       "      <td>1.0</td>\n",
       "      <td>1.0</td>\n",
       "      <td>1.0</td>\n",
       "      <td>0.0</td>\n",
       "      <td>0.0</td>\n",
       "      <td>0.0</td>\n",
       "      <td>0.0</td>\n",
       "      <td>1.0</td>\n",
       "      <td>1.0</td>\n",
       "      <td>1.0</td>\n",
       "      <td>1.0</td>\n",
       "      <td>1.0</td>\n",
       "    </tr>\n",
       "    <tr>\n",
       "      <th>René Alinco</th>\n",
       "      <td>1.0</td>\n",
       "      <td>1.0</td>\n",
       "      <td>1.0</td>\n",
       "      <td>1.0</td>\n",
       "      <td>0.0</td>\n",
       "      <td>0.0</td>\n",
       "      <td>1.0</td>\n",
       "      <td>1.0</td>\n",
       "      <td>1.0</td>\n",
       "      <td>1.0</td>\n",
       "      <td>1.0</td>\n",
       "      <td>1.0</td>\n",
       "      <td>1.0</td>\n",
       "      <td>0.0</td>\n",
       "    </tr>\n",
       "    <tr>\n",
       "      <th>Sebastián Álvarez</th>\n",
       "      <td>1.0</td>\n",
       "      <td>1.0</td>\n",
       "      <td>1.0</td>\n",
       "      <td>1.0</td>\n",
       "      <td>1.0</td>\n",
       "      <td>1.0</td>\n",
       "      <td>0.0</td>\n",
       "      <td>1.0</td>\n",
       "      <td>0.0</td>\n",
       "      <td>0.0</td>\n",
       "      <td>1.0</td>\n",
       "      <td>1.0</td>\n",
       "      <td>1.0</td>\n",
       "      <td>1.0</td>\n",
       "    </tr>\n",
       "    <tr>\n",
       "      <th>Jenny Álvarez</th>\n",
       "      <td>1.0</td>\n",
       "      <td>1.0</td>\n",
       "      <td>1.0</td>\n",
       "      <td>1.0</td>\n",
       "      <td>1.0</td>\n",
       "      <td>1.0</td>\n",
       "      <td>1.0</td>\n",
       "      <td>1.0</td>\n",
       "      <td>1.0</td>\n",
       "      <td>1.0</td>\n",
       "      <td>1.0</td>\n",
       "      <td>1.0</td>\n",
       "      <td>1.0</td>\n",
       "      <td>0.0</td>\n",
       "    </tr>\n",
       "  </tbody>\n",
       "</table>\n",
       "</div>"
      ],
      "text/plain": [
       "                   Boletín N° 11702-13  Boletín N° 11787-22  \\\n",
       "Florcita Alarcón                   1.0                  1.0   \n",
       "Jorge Alessandri                   1.0                  1.0   \n",
       "René Alinco                        1.0                  1.0   \n",
       "Sebastián Álvarez                  1.0                  1.0   \n",
       "Jenny Álvarez                      1.0                  1.0   \n",
       "\n",
       "                   Boletín N° 11972-10  Boletín N° 11487-04  \\\n",
       "Florcita Alarcón                   0.0                  1.0   \n",
       "Jorge Alessandri                   1.0                  1.0   \n",
       "René Alinco                        1.0                  1.0   \n",
       "Sebastián Álvarez                  1.0                  1.0   \n",
       "Jenny Álvarez                      1.0                  1.0   \n",
       "\n",
       "                   Boletín N° 11749-10  P. Resolución N° 166  \\\n",
       "Florcita Alarcón                   0.0                   0.0   \n",
       "Jorge Alessandri                   1.0                   0.0   \n",
       "René Alinco                        0.0                   0.0   \n",
       "Sebastián Álvarez                  1.0                   1.0   \n",
       "Jenny Álvarez                      1.0                   1.0   \n",
       "\n",
       "                   P. Resolución N° 164  P. Resolución N° 313  Otro Documento  \\\n",
       "Florcita Alarcón                    1.0                   1.0             1.0   \n",
       "Jorge Alessandri                    0.0                   0.0             0.0   \n",
       "René Alinco                         1.0                   1.0             1.0   \n",
       "Sebastián Álvarez                   0.0                   1.0             0.0   \n",
       "Jenny Álvarez                       1.0                   1.0             1.0   \n",
       "\n",
       "                   Boletín N° 8924-07  P. Resolución N° 322  \\\n",
       "Florcita Alarcón                  1.0                   1.0   \n",
       "Jorge Alessandri                  1.0                   1.0   \n",
       "René Alinco                       1.0                   1.0   \n",
       "Sebastián Álvarez                 0.0                   1.0   \n",
       "Jenny Álvarez                     1.0                   1.0   \n",
       "\n",
       "                   P. Resolución N° 321  P. Resolución N° 320  \\\n",
       "Florcita Alarcón                    1.0                   1.0   \n",
       "Jorge Alessandri                    1.0                   1.0   \n",
       "René Alinco                         1.0                   1.0   \n",
       "Sebastián Álvarez                   1.0                   1.0   \n",
       "Jenny Álvarez                       1.0                   1.0   \n",
       "\n",
       "                   Boletín N° 11317-21  \n",
       "Florcita Alarcón                   0.0  \n",
       "Jorge Alessandri                   1.0  \n",
       "René Alinco                        0.0  \n",
       "Sebastián Álvarez                  1.0  \n",
       "Jenny Álvarez                      0.0  "
      ]
     },
     "execution_count": 399,
     "metadata": {},
     "output_type": "execute_result"
    }
   ],
   "source": [
    "votes_info.head()"
   ]
  },
  {
   "cell_type": "markdown",
   "metadata": {},
   "source": [
    "## Dynamic Web Scraping"
   ]
  },
  {
   "cell_type": "markdown",
   "metadata": {},
   "source": [
    "Most web pages use dynamic content to display data. We need to explore the Javascript code. "
   ]
  },
  {
   "cell_type": "code",
   "execution_count": null,
   "metadata": {},
   "outputs": [],
   "source": []
  }
 ],
 "metadata": {
  "kernelspec": {
   "display_name": "Python 3",
   "language": "python",
   "name": "python3"
  },
  "language_info": {
   "codemirror_mode": {
    "name": "ipython",
    "version": 3
   },
   "file_extension": ".py",
   "mimetype": "text/x-python",
   "name": "python",
   "nbconvert_exporter": "python",
   "pygments_lexer": "ipython3",
   "version": "3.6.6"
  }
 },
 "nbformat": 4,
 "nbformat_minor": 2
}
